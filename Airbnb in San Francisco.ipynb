{
 "cells": [
  {
   "cell_type": "markdown",
   "metadata": {},
   "source": [
    "# AirBnb prices in San Francisco"
   ]
  },
  {
   "cell_type": "markdown",
   "metadata": {},
   "source": [
    "#### Introduction/Business poblem\n",
    "Airbnb is famous company and is know worlwide. \n",
    "Airbnbs price are very dissimilar and higly depends on location and several other parameters. This project will divided in two section, the first one will focus on airbnbs price distribution and the second one is about finding the closest restaurant from chosen aibnb location. As of today, only closest transportation is visilbe on airbnb website\n"
   ]
  },
  {
   "cell_type": "markdown",
   "metadata": {},
   "source": [
    "## Data requirement"
   ]
  },
  {
   "cell_type": "markdown",
   "metadata": {},
   "source": [
    "Data about the location (lat,long), the price, reviews,name and the neighbourhood of the airbnbs are needed. Foursquare API will then be used for the latest part of the project.\n",
    "Ratings data are hilgy desirable but are not available."
   ]
  },
  {
   "cell_type": "markdown",
   "metadata": {},
   "source": []
  }
 ],
 "metadata": {
  "kernelspec": {
   "display_name": "Python 3",
   "language": "python",
   "name": "python3"
  },
  "language_info": {
   "codemirror_mode": {
    "name": "ipython",
    "version": 3
   },
   "file_extension": ".py",
   "mimetype": "text/x-python",
   "name": "python",
   "nbconvert_exporter": "python",
   "pygments_lexer": "ipython3",
   "version": "3.6.8"
  }
 },
 "nbformat": 4,
 "nbformat_minor": 2
}
