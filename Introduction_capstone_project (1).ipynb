{
 "cells": [
  {
   "cell_type": "markdown",
   "metadata": {},
   "source": [
    "# Airbnb in San Francisco\n",
    "\n",
    "## Introduction:\n",
    "Airbnb has become very famous since its creation back in 2008. There is now a bunch of offers with very different prices. Airbnb price will most likely depends on its location so customers are likely to be interested to know which neighborhood is the most suitable for his wallet. There is also chances that some keyword in the name of the Airbnb will lead to higher prices. So customer will be interested to know which characteristic of the rents that impact its price. \n",
    "Currently on Airbnb website there is no restaurant proposal from a selected Airbnb while the most frequent question to the host is where can we have dinner? This project aim at answering those question.\n",
    "## Data:\n",
    "Airbnb release some the collected data and are free to use. Data to be used:\n",
    "-name/description\n",
    "-price\n",
    "-neighborhood\n",
    "-number of reviews\n",
    "-Reviews per month\n",
    "-Comments\n",
    "-Foursquare API\n",
    "Data cleaning and preparation:\n"
   ]
  },
  {
   "cell_type": "code",
   "execution_count": null,
   "metadata": {},
   "outputs": [],
   "source": []
  }
 ],
 "metadata": {
  "kernelspec": {
   "display_name": "Python 3",
   "language": "python",
   "name": "python3"
  },
  "language_info": {
   "codemirror_mode": {
    "name": "ipython",
    "version": 3
   },
   "file_extension": ".py",
   "mimetype": "text/x-python",
   "name": "python",
   "nbconvert_exporter": "python",
   "pygments_lexer": "ipython3",
   "version": "3.6.8"
  }
 },
 "nbformat": 4,
 "nbformat_minor": 2
}
