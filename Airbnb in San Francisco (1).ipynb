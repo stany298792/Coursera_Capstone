{
 "cells": [
  {
   "cell_type": "markdown",
   "metadata": {},
   "source": [
    "# AirBnb prices in San Francisco"
   ]
  },
  {
   "cell_type": "markdown",
   "metadata": {},
   "source": [
    "#### Introduction/Business poblem\n",
    "Airbnb has become very famous since its creation back in 2008. There is now a bunch of offers with very different prices. Airbnb price will most likely depends on its location so customers are likely to be interested to know which neighborhood is the most suitable for his wallet. There is also chances that some keyword in the name of the Airbnb will lead to higher prices. So customer will be interested to know what are the characteristic of the rents that impact its price. \n",
    "Currently on Airbnb website there is no restaurant proposal from a selected Airbnb while the most frequent question to the host is where can we have dinner? This project aim at answering those question.\n",
    "\n"
   ]
  },
  {
   "cell_type": "markdown",
   "metadata": {},
   "source": [
    "## Data requirement"
   ]
  },
  {
   "cell_type": "markdown",
   "metadata": {},
   "source": [
    "Data about the location (lat,long), the price, reviews,name and the neighbourhood of the airbnbs are needed. \n",
    "Foursquare API will then be used for the second part of the project.\n",
    "Ratings would have been higly desirable to perform machine learning from comments keyword/frequency but they are not available."
   ]
  },
  {
   "cell_type": "markdown",
   "metadata": {},
   "source": []
  }
 ],
 "metadata": {
  "kernelspec": {
   "display_name": "Python 3",
   "language": "python",
   "name": "python3"
  },
  "language_info": {
   "codemirror_mode": {
    "name": "ipython",
    "version": 3
   },
   "file_extension": ".py",
   "mimetype": "text/x-python",
   "name": "python",
   "nbconvert_exporter": "python",
   "pygments_lexer": "ipython3",
   "version": "3.6.8"
  }
 },
 "nbformat": 4,
 "nbformat_minor": 2
}
